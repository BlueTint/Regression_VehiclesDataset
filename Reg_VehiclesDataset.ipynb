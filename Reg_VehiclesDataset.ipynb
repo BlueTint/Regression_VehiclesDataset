{
 "cells": [
  {
   "cell_type": "code",
   "execution_count": 62,
   "metadata": {},
   "outputs": [],
   "source": [
    "import pandas as pd\n",
    "import numpy as np\n",
    "import matplotlib.pyplot as plt\n",
    "import seaborn as sb\n",
    "\n",
    "from sklearn.model_selection import train_test_split\n",
    "from sklearn.linear_model import LinearRegression\n",
    "from sklearn.metrics import mean_squared_error, mean_absolute_error\n",
    "from sklearn.model_selection import cross_val_score\n",
    "\n",
    "import math\n",
    "\n",
    "import statsmodels.api as sm\n",
    "from statsmodels.stats.outliers_influence import variance_inflation_factor"
   ]
  },
  {
   "cell_type": "code",
   "execution_count": 7,
   "metadata": {},
   "outputs": [],
   "source": [
    "address = '/Users/phillip/Downloads/Python/Datasets/craigslistVehicles.csv'\n",
    "data = pd.read_csv(address)"
   ]
  },
  {
   "cell_type": "code",
   "execution_count": 8,
   "metadata": {},
   "outputs": [],
   "source": [
    "data.drop_duplicates(inplace= True)"
   ]
  },
  {
   "cell_type": "code",
   "execution_count": 4,
   "metadata": {},
   "outputs": [
    {
     "data": {
      "text/plain": [
       "url             False\n",
       "city            False\n",
       "city_url        False\n",
       "price           False\n",
       "year             True\n",
       "manufacturer     True\n",
       "make             True\n",
       "condition        True\n",
       "cylinders        True\n",
       "fuel             True\n",
       "odometer         True\n",
       "title_status     True\n",
       "transmission     True\n",
       "VIN              True\n",
       "drive            True\n",
       "size             True\n",
       "type             True\n",
       "paint_color      True\n",
       "image_url        True\n",
       "desc             True\n",
       "lat              True\n",
       "long             True\n",
       "dtype: bool"
      ]
     },
     "execution_count": 4,
     "metadata": {},
     "output_type": "execute_result"
    }
   ],
   "source": [
    "data.isnull().any()"
   ]
  },
  {
   "cell_type": "code",
   "execution_count": 5,
   "metadata": {},
   "outputs": [
    {
     "data": {
      "text/plain": [
       "url             0.000000\n",
       "city            0.000000\n",
       "city_url        0.000000\n",
       "price           0.000000\n",
       "year            0.002738\n",
       "manufacturer    0.046742\n",
       "make            0.016427\n",
       "condition       0.467744\n",
       "cylinders       0.400122\n",
       "fuel            0.008168\n",
       "odometer        0.187493\n",
       "title_status    0.005372\n",
       "transmission    0.008115\n",
       "VIN             0.418733\n",
       "drive           0.287852\n",
       "size            0.668113\n",
       "type            0.283229\n",
       "paint_color     0.326208\n",
       "image_url       0.000015\n",
       "desc            0.000046\n",
       "lat             0.023241\n",
       "long            0.023241\n",
       "dtype: float64"
      ]
     },
     "execution_count": 5,
     "metadata": {},
     "output_type": "execute_result"
    }
   ],
   "source": [
    "data.isnull().sum()/ data.shape[0]"
   ]
  },
  {
   "cell_type": "code",
   "execution_count": 10,
   "metadata": {},
   "outputs": [
    {
     "data": {
      "text/plain": [
       "12404"
      ]
     },
     "execution_count": 10,
     "metadata": {},
     "output_type": "execute_result"
    }
   ],
   "source": [
    "data.desc.head()\n",
    "data.desc.head().apply(lambda x: x.lower())\n",
    "data.desc.head().apply(lambda x: x.upper())\n",
    "data['text_len'] = data.desc.apply(lambda x: len(str(x)))\n",
    "(data['text_len'].value_counts() > 1).sum()"
   ]
  },
  {
   "cell_type": "code",
   "execution_count": 11,
   "metadata": {},
   "outputs": [
    {
     "data": {
      "text/plain": [
       "nan      210400\n",
       "6        112931\n",
       "8         97876\n",
       "4         97669\n",
       "5          2810\n",
       "10         1804\n",
       "other      1523\n",
       "3           595\n",
       "12          231\n",
       "Name: cylinders, dtype: int64"
      ]
     },
     "execution_count": 11,
     "metadata": {},
     "output_type": "execute_result"
    }
   ],
   "source": [
    "data.cylinders.dtype\n",
    "data.cylinders.value_counts()\n",
    "data.cylinders = data.cylinders.apply(lambda x: str(x).replace('cylinders','').strip())\n",
    "data.cylinders.value_counts()"
   ]
  },
  {
   "cell_type": "code",
   "execution_count": 12,
   "metadata": {},
   "outputs": [
    {
     "data": {
      "text/plain": [
       "6.0     112931\n",
       "8.0      97876\n",
       "4.0      97669\n",
       "5.0       2810\n",
       "10.0      1804\n",
       "3.0        595\n",
       "12.0       231\n",
       "Name: cylinders, dtype: int64"
      ]
     },
     "execution_count": 12,
     "metadata": {},
     "output_type": "execute_result"
    }
   ],
   "source": [
    "data.cylinders = pd.to_numeric(data.cylinders, errors = 'coerce')\n",
    "data.cylinders.value_counts()"
   ]
  },
  {
   "cell_type": "code",
   "execution_count": 9,
   "metadata": {},
   "outputs": [
    {
     "data": {
      "text/plain": [
       "<matplotlib.axes._subplots.AxesSubplot at 0x116867790>"
      ]
     },
     "execution_count": 9,
     "metadata": {},
     "output_type": "execute_result"
    },
    {
     "data": {
      "image/png": "[encoded data removed]",
      "text/plain": [
       "<Figure size 432x288 with 1 Axes>"
      ]
     },
     "metadata": {
      "needs_background": "light"
     },
     "output_type": "display_data"
    }
   ],
   "source": [
    "data.boxplot('price')"
   ]
  },
  {
   "cell_type": "code",
   "execution_count": 10,
   "metadata": {},
   "outputs": [
    {
     "data": {
      "text/plain": [
       "<matplotlib.axes._subplots.AxesSubplot at 0x118d6f590>"
      ]
     },
     "execution_count": 10,
     "metadata": {},
     "output_type": "execute_result"
    },
    {
     "data": {
      "image/png": "[encoded data removed]",
      "text/plain": [
       "<Figure size 432x288 with 1 Axes>"
      ]
     },
     "metadata": {
      "needs_background": "light"
     },
     "output_type": "display_data"
    }
   ],
   "source": [
    "data.boxplot('odometer')"
   ]
  },
  {
   "cell_type": "code",
   "execution_count": 11,
   "metadata": {},
   "outputs": [],
   "source": [
    "# Outlier detection & normalization - removing rows with < 99% z score"
   ]
  },
  {
   "cell_type": "code",
   "execution_count": 13,
   "metadata": {},
   "outputs": [],
   "source": [
    "data_outliers = data[(data.price < data.price.quantile(.995)) & (data.price > data.price.quantile(.005)) & (data.price != 0) & (data.odometer != 0)]\n"
   ]
  },
  {
   "cell_type": "code",
   "execution_count": 14,
   "metadata": {},
   "outputs": [],
   "source": [
    "data_outliers = data_outliers[(data_outliers.odometer < data_outliers.odometer.quantile(.995)) & (data_outliers.odometer > data_outliers.odometer.quantile(.005))]\n"
   ]
  },
  {
   "cell_type": "code",
   "execution_count": 24,
   "metadata": {},
   "outputs": [
    {
     "data": {
      "text/plain": [
       "<matplotlib.axes._subplots.AxesSubplot at 0x116d13410>"
      ]
     },
     "execution_count": 24,
     "metadata": {},
     "output_type": "execute_result"
    },
    {
     "data": {
      "image/png": "[encoded data removed]",
      "text/plain": [
       "<Figure size 432x288 with 1 Axes>"
      ]
     },
     "metadata": {
      "needs_background": "light"
     },
     "output_type": "display_data"
    }
   ],
   "source": [
    "data.boxplot('price')"
   ]
  },
  {
   "cell_type": "code",
   "execution_count": 20,
   "metadata": {},
   "outputs": [
    {
     "data": {
      "text/plain": [
       "<matplotlib.axes._subplots.AxesSubplot at 0x1198d2a90>"
      ]
     },
     "execution_count": 20,
     "metadata": {},
     "output_type": "execute_result"
    },
    {
     "data": {
      "image/png": "[encoded data removed]",
      "text/plain": [
       "<Figure size 432x288 with 1 Axes>"
      ]
     },
     "metadata": {
      "needs_background": "light"
     },
     "output_type": "display_data"
    }
   ],
   "source": [
    "data.boxplot('odometer')"
   ]
  },
  {
   "cell_type": "code",
   "execution_count": 25,
   "metadata": {},
   "outputs": [
    {
     "data": {
      "text/plain": [
       "array([[<matplotlib.axes._subplots.AxesSubplot object at 0x119e88150>,\n",
       "        <matplotlib.axes._subplots.AxesSubplot object at 0x116e89950>],\n",
       "       [<matplotlib.axes._subplots.AxesSubplot object at 0x116ece090>,\n",
       "        <matplotlib.axes._subplots.AxesSubplot object at 0x116e04910>]],\n",
       "      dtype=object)"
      ]
     },
     "execution_count": 25,
     "metadata": {},
     "output_type": "execute_result"
    },
    {
     "data": {
      "image/png": "[encoded data removed]",
      "text/plain": [
       "<Figure size 432x288 with 4 Axes>"
      ]
     },
     "metadata": {
      "needs_background": "light"
     },
     "output_type": "display_data"
    }
   ],
   "source": [
    "data_outliers[['price', 'odometer', 'cylinders', 'text_len']].hist()"
   ]
  },
  {
   "cell_type": "code",
   "execution_count": 30,
   "metadata": {},
   "outputs": [
    {
     "data": {
      "text/plain": [
       "url             0.000000\n",
       "city            0.000000\n",
       "city_url        0.000000\n",
       "price           0.000000\n",
       "year            0.003109\n",
       "manufacturer    0.033132\n",
       "make            0.010946\n",
       "condition       0.416115\n",
       "cylinders       0.343725\n",
       "fuel            0.008725\n",
       "odometer        0.000000\n",
       "title_status    0.006728\n",
       "transmission    0.009256\n",
       "VIN             0.327061\n",
       "drive           0.205641\n",
       "size            0.633330\n",
       "type            0.195401\n",
       "paint_color     0.244585\n",
       "image_url       0.000000\n",
       "desc            0.000008\n",
       "lat             0.016970\n",
       "long            0.016970\n",
       "text_len        0.000000\n",
       "dtype: float64"
      ]
     },
     "execution_count": 30,
     "metadata": {},
     "output_type": "execute_result"
    }
   ],
   "source": [
    "data_outliers.isnull()\n",
    "data_outliers.isnull().sum()/ data_outliers.shape[0]"
   ]
  },
  {
   "cell_type": "code",
   "execution_count": 31,
   "metadata": {},
   "outputs": [],
   "source": [
    "#Imputing nulls"
   ]
  },
  {
   "cell_type": "code",
   "execution_count": 15,
   "metadata": {},
   "outputs": [],
   "source": [
    "data_outliers.dropna(subset=['year','manufacturer','make','fuel','title_status','transmission'], inplace=True)"
   ]
  },
  {
   "cell_type": "code",
   "execution_count": 34,
   "metadata": {},
   "outputs": [
    {
     "data": {
      "text/plain": [
       "url             0.000000\n",
       "city            0.000000\n",
       "city_url        0.000000\n",
       "price           0.000000\n",
       "year            0.000000\n",
       "manufacturer    0.000000\n",
       "make            0.000000\n",
       "condition       0.404298\n",
       "cylinders       0.339355\n",
       "fuel            0.000000\n",
       "odometer        0.000000\n",
       "title_status    0.000000\n",
       "transmission    0.000000\n",
       "VIN             0.329703\n",
       "drive           0.203634\n",
       "size            0.628311\n",
       "type            0.194743\n",
       "paint_color     0.244353\n",
       "image_url       0.000000\n",
       "desc            0.000008\n",
       "lat             0.017388\n",
       "long            0.017388\n",
       "text_len        0.000000\n",
       "dtype: float64"
      ]
     },
     "execution_count": 34,
     "metadata": {},
     "output_type": "execute_result"
    }
   ],
   "source": [
    "data_outliers.isnull().sum()/data_outliers.shape[0]"
   ]
  },
  {
   "cell_type": "code",
   "execution_count": 35,
   "metadata": {},
   "outputs": [],
   "source": [
    "# Imputing 'cylinders' null values with median "
   ]
  },
  {
   "cell_type": "code",
   "execution_count": 16,
   "metadata": {},
   "outputs": [],
   "source": [
    "data_outliers.cylinders.fillna(data_outliers.cylinders.median(), inplace=True)"
   ]
  },
  {
   "cell_type": "code",
   "execution_count": 38,
   "metadata": {},
   "outputs": [
    {
     "data": {
      "text/plain": [
       "url             0.000000\n",
       "city            0.000000\n",
       "city_url        0.000000\n",
       "price           0.000000\n",
       "year            0.000000\n",
       "manufacturer    0.000000\n",
       "make            0.000000\n",
       "condition       0.404298\n",
       "cylinders       0.000000\n",
       "fuel            0.000000\n",
       "odometer        0.000000\n",
       "title_status    0.000000\n",
       "transmission    0.000000\n",
       "VIN             0.329703\n",
       "drive           0.203634\n",
       "size            0.628311\n",
       "type            0.194743\n",
       "paint_color     0.244353\n",
       "image_url       0.000000\n",
       "desc            0.000008\n",
       "lat             0.017388\n",
       "long            0.017388\n",
       "text_len        0.000000\n",
       "dtype: float64"
      ]
     },
     "execution_count": 38,
     "metadata": {},
     "output_type": "execute_result"
    }
   ],
   "source": [
    "data_outliers.isnull().sum()/data_outliers.shape[0]"
   ]
  },
  {
   "cell_type": "code",
   "execution_count": 39,
   "metadata": {},
   "outputs": [],
   "source": [
    "# Fillna --> Categorical varibles\n",
    "# Filling null values with 'n/a'"
   ]
  },
  {
   "cell_type": "code",
   "execution_count": 17,
   "metadata": {},
   "outputs": [],
   "source": [
    "data_outliers[['condition','VIN','drive','size','type','paint_color']] = data_outliers[['condition','VIN','drive','size','type','paint_color']].fillna('n/a')"
   ]
  },
  {
   "cell_type": "code",
   "execution_count": 41,
   "metadata": {},
   "outputs": [
    {
     "data": {
      "text/plain": [
       "url             0.000000\n",
       "city            0.000000\n",
       "city_url        0.000000\n",
       "price           0.000000\n",
       "year            0.000000\n",
       "manufacturer    0.000000\n",
       "make            0.000000\n",
       "condition       0.000000\n",
       "cylinders       0.000000\n",
       "fuel            0.000000\n",
       "odometer        0.000000\n",
       "title_status    0.000000\n",
       "transmission    0.000000\n",
       "VIN             0.000000\n",
       "drive           0.000000\n",
       "size            0.000000\n",
       "type            0.000000\n",
       "paint_color     0.000000\n",
       "image_url       0.000000\n",
       "desc            0.000008\n",
       "lat             0.017388\n",
       "long            0.017388\n",
       "text_len        0.000000\n",
       "dtype: float64"
      ]
     },
     "execution_count": 41,
     "metadata": {},
     "output_type": "execute_result"
    }
   ],
   "source": [
    "data_outliers.isnull().sum()/data_outliers.shape[0]"
   ]
  },
  {
   "cell_type": "code",
   "execution_count": 42,
   "metadata": {},
   "outputs": [],
   "source": [
    "# Imputing VIN number --> 'has_vin' & 'no_vin'"
   ]
  },
  {
   "cell_type": "code",
   "execution_count": 18,
   "metadata": {},
   "outputs": [],
   "source": [
    "data_outliers.VIN.head(20)\n",
    "data_outliers.VIN = data_outliers.VIN.apply(lambda x: 'has_vin' if x!= 'n/a' else 'no_vin')"
   ]
  },
  {
   "cell_type": "code",
   "execution_count": 19,
   "metadata": {},
   "outputs": [],
   "source": [
    "data_final = data_outliers.drop(['url','city','city_url','image_url','lat','long','desc','size',], axis= 1)"
   ]
  },
  {
   "cell_type": "code",
   "execution_count": 20,
   "metadata": {},
   "outputs": [],
   "source": [
    "data_final['constant'] = 1"
   ]
  },
  {
   "cell_type": "code",
   "execution_count": 22,
   "metadata": {},
   "outputs": [],
   "source": [
    "data_final['age'] = 2019 - data_final.year"
   ]
  },
  {
   "cell_type": "code",
   "execution_count": 23,
   "metadata": {},
   "outputs": [],
   "source": [
    "numeric = data_final._get_numeric_data()\n",
    "corrdata = numeric"
   ]
  },
  {
   "cell_type": "code",
   "execution_count": 24,
   "metadata": {},
   "outputs": [
    {
     "data": {
      "image/png": "[encoded data removed]",
      "text/plain": [
       "<Figure size 432x288 with 2 Axes>"
      ]
     },
     "metadata": {
      "needs_background": "light"
     },
     "output_type": "display_data"
    }
   ],
   "source": [
    "corr = corrdata.corr()\n",
    "ax = sb.heatmap(\n",
    "    corr, \n",
    "    vmin=-1, vmax=1, center=0,\n",
    "    cmap=sb.diverging_palette(20, 220, n=200),\n",
    "    square=True\n",
    ")\n",
    "ax.set_xticklabels(\n",
    "    ax.get_xticklabels(),\n",
    "    rotation=45,\n",
    "    horizontalalignment='right'\n",
    ");"
   ]
  },
  {
   "cell_type": "code",
   "execution_count": 1,
   "metadata": {},
   "outputs": [],
   "source": [
    "#### Regression ####"
   ]
  },
  {
   "cell_type": "code",
   "execution_count": 26,
   "metadata": {},
   "outputs": [],
   "source": [
    "x1 = data_final.odometer.values.reshape(-1,1)\n",
    "y1 = data_final.price.values.reshape(-1,1)\n",
    "\n",
    "x_train1, x_test1, y_train1, y_test1 = train_test_split(x1,y1, test_size=0.3, random_state=0)"
   ]
  },
  {
   "cell_type": "code",
   "execution_count": 27,
   "metadata": {},
   "outputs": [],
   "source": [
    "reg = LinearRegression().fit(x_train1, y_train1)\n",
    "reg.score(x_train1, y_train1) # R square\n",
    "reg.coef_\n",
    "y_hat1 = reg.predict(x_train1)"
   ]
  },
  {
   "cell_type": "code",
   "execution_count": 29,
   "metadata": {},
   "outputs": [
    {
     "data": {
      "image/png": "[encoded data removed]",
      "text/plain": [
       "<Figure size 432x288 with 1 Axes>"
      ]
     },
     "metadata": {
      "needs_background": "light"
     },
     "output_type": "display_data"
    }
   ],
   "source": [
    "plt.scatter(x_train1, y_train1)\n",
    "plt.scatter(x_train1, y_hat1)\n",
    "plt.show()"
   ]
  },
  {
   "cell_type": "code",
   "execution_count": 32,
   "metadata": {},
   "outputs": [
    {
     "data": {
      "image/png": "[encoded data removed]",
      "text/plain": [
       "<Figure size 432x288 with 1 Axes>"
      ]
     },
     "metadata": {
      "needs_background": "light"
     },
     "output_type": "display_data"
    }
   ],
   "source": [
    "y_hat_test1 = reg.predict(x_test1)\n",
    "plt.scatter(x_test1, y_test1)\n",
    "plt.scatter(x_test1, y_hat_test1)\n",
    "plt.show()"
   ]
  },
  {
   "cell_type": "code",
   "execution_count": 33,
   "metadata": {},
   "outputs": [],
   "source": [
    "#MSE & RMSE penalize large errors more than MAE"
   ]
  },
  {
   "cell_type": "code",
   "execution_count": 34,
   "metadata": {},
   "outputs": [
    {
     "name": "stdout",
     "output_type": "stream",
     "text": [
      "Root Mean Squared Error =  8961.501813364584\n",
      "Mean Absolute Error =  6789.562740718528\n"
     ]
    }
   ],
   "source": [
    "mae = mean_absolute_error(y_hat_test1, y_test1)\n",
    "rmse = math.sqrt(mean_squared_error(y_hat_test1, y_test1))\n",
    "print('Root Mean Squared Error = ', rmse)\n",
    "print('Mean Absolute Error = ', mae)"
   ]
  },
  {
   "cell_type": "code",
   "execution_count": 43,
   "metadata": {},
   "outputs": [],
   "source": [
    "### Using Statsmodels api"
   ]
  },
  {
   "cell_type": "code",
   "execution_count": 45,
   "metadata": {},
   "outputs": [],
   "source": [
    "x1b = data_final[['constant','odometer']]\n",
    "y1b = data_final.price.values\n",
    "\n",
    "x_train1b, x_test1b, y_train1b, y_test1b = train_test_split(x1b,y1b, test_size=0.3, random_state=0)"
   ]
  },
  {
   "cell_type": "code",
   "execution_count": 46,
   "metadata": {},
   "outputs": [
    {
     "data": {
      "text/html": [
       "<table class=\"simpletable\">\n",
       "<caption>OLS Regression Results</caption>\n",
       "<tr>\n",
       "  <th>Dep. Variable:</th>            <td>y</td>        <th>  R-squared:         </th>  <td>   0.256</td>  \n",
       "</tr>\n",
       "<tr>\n",
       "  <th>Model:</th>                   <td>OLS</td>       <th>  Adj. R-squared:    </th>  <td>   0.256</td>  \n",
       "</tr>\n",
       "<tr>\n",
       "  <th>Method:</th>             <td>Least Squares</td>  <th>  F-statistic:       </th>  <td>8.601e+04</td> \n",
       "</tr>\n",
       "<tr>\n",
       "  <th>Date:</th>             <td>Tue, 17 Dec 2019</td> <th>  Prob (F-statistic):</th>   <td>  0.00</td>   \n",
       "</tr>\n",
       "<tr>\n",
       "  <th>Time:</th>                 <td>13:29:37</td>     <th>  Log-Likelihood:    </th> <td>-2.6343e+06</td>\n",
       "</tr>\n",
       "<tr>\n",
       "  <th>No. Observations:</th>      <td>250366</td>      <th>  AIC:               </th>  <td>5.269e+06</td> \n",
       "</tr>\n",
       "<tr>\n",
       "  <th>Df Residuals:</th>          <td>250364</td>      <th>  BIC:               </th>  <td>5.269e+06</td> \n",
       "</tr>\n",
       "<tr>\n",
       "  <th>Df Model:</th>              <td>     1</td>      <th>                     </th>      <td> </td>     \n",
       "</tr>\n",
       "<tr>\n",
       "  <th>Covariance Type:</th>      <td>nonrobust</td>    <th>                     </th>      <td> </td>     \n",
       "</tr>\n",
       "</table>\n",
       "<table class=\"simpletable\">\n",
       "<tr>\n",
       "      <td></td>        <th>coef</th>     <th>std err</th>      <th>t</th>      <th>P>|t|</th>  <th>[0.025</th>    <th>0.975]</th>  \n",
       "</tr>\n",
       "<tr>\n",
       "  <th>constant</th> <td> 2.309e+04</td> <td>   35.810</td> <td>  644.790</td> <td> 0.000</td> <td>  2.3e+04</td> <td> 2.32e+04</td>\n",
       "</tr>\n",
       "<tr>\n",
       "  <th>odometer</th> <td>   -0.0897</td> <td>    0.000</td> <td> -293.276</td> <td> 0.000</td> <td>   -0.090</td> <td>   -0.089</td>\n",
       "</tr>\n",
       "</table>\n",
       "<table class=\"simpletable\">\n",
       "<tr>\n",
       "  <th>Omnibus:</th>       <td>39044.510</td> <th>  Durbin-Watson:     </th> <td>   2.000</td> \n",
       "</tr>\n",
       "<tr>\n",
       "  <th>Prob(Omnibus):</th>  <td> 0.000</td>   <th>  Jarque-Bera (JB):  </th> <td>71378.591</td>\n",
       "</tr>\n",
       "<tr>\n",
       "  <th>Skew:</th>           <td> 0.998</td>   <th>  Prob(JB):          </th> <td>    0.00</td> \n",
       "</tr>\n",
       "<tr>\n",
       "  <th>Kurtosis:</th>       <td> 4.691</td>   <th>  Cond. No.          </th> <td>2.34e+05</td> \n",
       "</tr>\n",
       "</table><br/><br/>Warnings:<br/>[1] Standard Errors assume that the covariance matrix of the errors is correctly specified.<br/>[2] The condition number is large, 2.34e+05. This might indicate that there are<br/>strong multicollinearity or other numerical problems."
      ],
      "text/plain": [
       "<class 'statsmodels.iolib.summary.Summary'>\n",
       "\"\"\"\n",
       "                            OLS Regression Results                            \n",
       "==============================================================================\n",
       "Dep. Variable:                      y   R-squared:                       0.256\n",
       "Model:                            OLS   Adj. R-squared:                  0.256\n",
       "Method:                 Least Squares   F-statistic:                 8.601e+04\n",
       "Date:                Tue, 17 Dec 2019   Prob (F-statistic):               0.00\n",
       "Time:                        13:29:37   Log-Likelihood:            -2.6343e+06\n",
       "No. Observations:              250366   AIC:                         5.269e+06\n",
       "Df Residuals:                  250364   BIC:                         5.269e+06\n",
       "Df Model:                           1                                         \n",
       "Covariance Type:            nonrobust                                         \n",
       "==============================================================================\n",
       "                 coef    std err          t      P>|t|      [0.025      0.975]\n",
       "------------------------------------------------------------------------------\n",
       "constant    2.309e+04     35.810    644.790      0.000     2.3e+04    2.32e+04\n",
       "odometer      -0.0897      0.000   -293.276      0.000      -0.090      -0.089\n",
       "==============================================================================\n",
       "Omnibus:                    39044.510   Durbin-Watson:                   2.000\n",
       "Prob(Omnibus):                  0.000   Jarque-Bera (JB):            71378.591\n",
       "Skew:                           0.998   Prob(JB):                         0.00\n",
       "Kurtosis:                       4.691   Cond. No.                     2.34e+05\n",
       "==============================================================================\n",
       "\n",
       "Warnings:\n",
       "[1] Standard Errors assume that the covariance matrix of the errors is correctly specified.\n",
       "[2] The condition number is large, 2.34e+05. This might indicate that there are\n",
       "strong multicollinearity or other numerical problems.\n",
       "\"\"\""
      ]
     },
     "execution_count": 46,
     "metadata": {},
     "output_type": "execute_result"
    }
   ],
   "source": [
    "reg_sm1b = sm.OLS(y_train1b, x_train1b).fit()\n",
    "reg_sm1b.summary()"
   ]
  },
  {
   "cell_type": "code",
   "execution_count": 47,
   "metadata": {},
   "outputs": [
    {
     "data": {
      "text/html": [
       "<table class=\"simpletable\">\n",
       "<caption>OLS Regression Results</caption>\n",
       "<tr>\n",
       "  <th>Dep. Variable:</th>            <td>y</td>        <th>  R-squared:         </th>  <td>   0.442</td>  \n",
       "</tr>\n",
       "<tr>\n",
       "  <th>Model:</th>                   <td>OLS</td>       <th>  Adj. R-squared:    </th>  <td>   0.442</td>  \n",
       "</tr>\n",
       "<tr>\n",
       "  <th>Method:</th>             <td>Least Squares</td>  <th>  F-statistic:       </th>  <td>4.958e+04</td> \n",
       "</tr>\n",
       "<tr>\n",
       "  <th>Date:</th>             <td>Tue, 17 Dec 2019</td> <th>  Prob (F-statistic):</th>   <td>  0.00</td>   \n",
       "</tr>\n",
       "<tr>\n",
       "  <th>Time:</th>                 <td>16:11:32</td>     <th>  Log-Likelihood:    </th> <td>-2.5982e+06</td>\n",
       "</tr>\n",
       "<tr>\n",
       "  <th>No. Observations:</th>      <td>250366</td>      <th>  AIC:               </th>  <td>5.197e+06</td> \n",
       "</tr>\n",
       "<tr>\n",
       "  <th>Df Residuals:</th>          <td>250361</td>      <th>  BIC:               </th>  <td>5.197e+06</td> \n",
       "</tr>\n",
       "<tr>\n",
       "  <th>Df Model:</th>              <td>     4</td>      <th>                     </th>      <td> </td>     \n",
       "</tr>\n",
       "<tr>\n",
       "  <th>Covariance Type:</th>      <td>nonrobust</td>    <th>                     </th>      <td> </td>     \n",
       "</tr>\n",
       "</table>\n",
       "<table class=\"simpletable\">\n",
       "<tr>\n",
       "      <td></td>         <th>coef</th>     <th>std err</th>      <th>t</th>      <th>P>|t|</th>  <th>[0.025</th>    <th>0.975]</th>  \n",
       "</tr>\n",
       "<tr>\n",
       "  <th>constant</th>  <td> 8278.9028</td> <td>   77.585</td> <td>  106.707</td> <td> 0.000</td> <td> 8126.837</td> <td> 8430.968</td>\n",
       "</tr>\n",
       "<tr>\n",
       "  <th>odometer</th>  <td>   -0.0646</td> <td>    0.000</td> <td> -214.140</td> <td> 0.000</td> <td>   -0.065</td> <td>   -0.064</td>\n",
       "</tr>\n",
       "<tr>\n",
       "  <th>age</th>       <td> -445.6432</td> <td>    2.613</td> <td> -170.530</td> <td> 0.000</td> <td> -450.765</td> <td> -440.521</td>\n",
       "</tr>\n",
       "<tr>\n",
       "  <th>cylinders</th> <td> 2447.2141</td> <td>   12.030</td> <td>  203.427</td> <td> 0.000</td> <td> 2423.636</td> <td> 2470.792</td>\n",
       "</tr>\n",
       "<tr>\n",
       "  <th>text_len</th>  <td>    0.5777</td> <td>    0.006</td> <td>   96.954</td> <td> 0.000</td> <td>    0.566</td> <td>    0.589</td>\n",
       "</tr>\n",
       "</table>\n",
       "<table class=\"simpletable\">\n",
       "<tr>\n",
       "  <th>Omnibus:</th>       <td>57455.137</td> <th>  Durbin-Watson:     </th>  <td>   2.002</td> \n",
       "</tr>\n",
       "<tr>\n",
       "  <th>Prob(Omnibus):</th>  <td> 0.000</td>   <th>  Jarque-Bera (JB):  </th> <td>210878.611</td>\n",
       "</tr>\n",
       "<tr>\n",
       "  <th>Skew:</th>           <td> 1.123</td>   <th>  Prob(JB):          </th>  <td>    0.00</td> \n",
       "</tr>\n",
       "<tr>\n",
       "  <th>Kurtosis:</th>       <td> 6.895</td>   <th>  Cond. No.          </th>  <td>5.90e+05</td> \n",
       "</tr>\n",
       "</table><br/><br/>Warnings:<br/>[1] Standard Errors assume that the covariance matrix of the errors is correctly specified.<br/>[2] The condition number is large, 5.9e+05. This might indicate that there are<br/>strong multicollinearity or other numerical problems."
      ],
      "text/plain": [
       "<class 'statsmodels.iolib.summary.Summary'>\n",
       "\"\"\"\n",
       "                            OLS Regression Results                            \n",
       "==============================================================================\n",
       "Dep. Variable:                      y   R-squared:                       0.442\n",
       "Model:                            OLS   Adj. R-squared:                  0.442\n",
       "Method:                 Least Squares   F-statistic:                 4.958e+04\n",
       "Date:                Tue, 17 Dec 2019   Prob (F-statistic):               0.00\n",
       "Time:                        16:11:32   Log-Likelihood:            -2.5982e+06\n",
       "No. Observations:              250366   AIC:                         5.197e+06\n",
       "Df Residuals:                  250361   BIC:                         5.197e+06\n",
       "Df Model:                           4                                         \n",
       "Covariance Type:            nonrobust                                         \n",
       "==============================================================================\n",
       "                 coef    std err          t      P>|t|      [0.025      0.975]\n",
       "------------------------------------------------------------------------------\n",
       "constant    8278.9028     77.585    106.707      0.000    8126.837    8430.968\n",
       "odometer      -0.0646      0.000   -214.140      0.000      -0.065      -0.064\n",
       "age         -445.6432      2.613   -170.530      0.000    -450.765    -440.521\n",
       "cylinders   2447.2141     12.030    203.427      0.000    2423.636    2470.792\n",
       "text_len       0.5777      0.006     96.954      0.000       0.566       0.589\n",
       "==============================================================================\n",
       "Omnibus:                    57455.137   Durbin-Watson:                   2.002\n",
       "Prob(Omnibus):                  0.000   Jarque-Bera (JB):           210878.611\n",
       "Skew:                           1.123   Prob(JB):                         0.00\n",
       "Kurtosis:                       6.895   Cond. No.                     5.90e+05\n",
       "==============================================================================\n",
       "\n",
       "Warnings:\n",
       "[1] Standard Errors assume that the covariance matrix of the errors is correctly specified.\n",
       "[2] The condition number is large, 5.9e+05. This might indicate that there are\n",
       "strong multicollinearity or other numerical problems.\n",
       "\"\"\""
      ]
     },
     "execution_count": 47,
     "metadata": {},
     "output_type": "execute_result"
    }
   ],
   "source": [
    "x2 = data_final[['constant','odometer','age','cylinders','text_len']]\n",
    "y2 = data_final.price.values\n",
    "\n",
    "x_train2, x_test2, y_train2, y_test2 = train_test_split(x2,y2, test_size=0.3, random_state=0)\n",
    "\n",
    "reg_sm2 = sm.OLS(y_train2, x_train2).fit()\n",
    "reg_sm2.summary()"
   ]
  },
  {
   "cell_type": "code",
   "execution_count": 51,
   "metadata": {},
   "outputs": [
    {
     "data": {
      "text/plain": [
       "constant     24.936033\n",
       "odometer      1.303456\n",
       "age           1.345178\n",
       "cylinders     1.031978\n",
       "text_len      1.129116\n",
       "dtype: float64"
      ]
     },
     "execution_count": 51,
     "metadata": {},
     "output_type": "execute_result"
    }
   ],
   "source": [
    "# VIF Statistic\n",
    "pd.Series([variance_inflation_factor(x2.values,i) for i in range(x2.shape[1])],index=x2.columns)"
   ]
  },
  {
   "cell_type": "code",
   "execution_count": 52,
   "metadata": {},
   "outputs": [],
   "source": [
    "# Final Regression"
   ]
  },
  {
   "cell_type": "code",
   "execution_count": 53,
   "metadata": {},
   "outputs": [
    {
     "data": {
      "text/html": [
       "<table class=\"simpletable\">\n",
       "<caption>OLS Regression Results</caption>\n",
       "<tr>\n",
       "  <th>Dep. Variable:</th>            <td>y</td>        <th>  R-squared:         </th>  <td>   0.591</td>  \n",
       "</tr>\n",
       "<tr>\n",
       "  <th>Model:</th>                   <td>OLS</td>       <th>  Adj. R-squared:    </th>  <td>   0.591</td>  \n",
       "</tr>\n",
       "<tr>\n",
       "  <th>Method:</th>             <td>Least Squares</td>  <th>  F-statistic:       </th>  <td>1.292e+04</td> \n",
       "</tr>\n",
       "<tr>\n",
       "  <th>Date:</th>             <td>Tue, 17 Dec 2019</td> <th>  Prob (F-statistic):</th>   <td>  0.00</td>   \n",
       "</tr>\n",
       "<tr>\n",
       "  <th>Time:</th>                 <td>16:18:33</td>     <th>  Log-Likelihood:    </th> <td>-2.5594e+06</td>\n",
       "</tr>\n",
       "<tr>\n",
       "  <th>No. Observations:</th>      <td>250366</td>      <th>  AIC:               </th>  <td>5.119e+06</td> \n",
       "</tr>\n",
       "<tr>\n",
       "  <th>Df Residuals:</th>          <td>250337</td>      <th>  BIC:               </th>  <td>5.119e+06</td> \n",
       "</tr>\n",
       "<tr>\n",
       "  <th>Df Model:</th>              <td>    28</td>      <th>                     </th>      <td> </td>     \n",
       "</tr>\n",
       "<tr>\n",
       "  <th>Covariance Type:</th>      <td>nonrobust</td>    <th>                     </th>      <td> </td>     \n",
       "</tr>\n",
       "</table>\n",
       "<table class=\"simpletable\">\n",
       "<tr>\n",
       "           <td></td>              <th>coef</th>     <th>std err</th>      <th>t</th>      <th>P>|t|</th>  <th>[0.025</th>    <th>0.975]</th>  \n",
       "</tr>\n",
       "<tr>\n",
       "  <th>constant</th>            <td> 8824.2090</td> <td>   72.768</td> <td>  121.264</td> <td> 0.000</td> <td> 8681.585</td> <td> 8966.833</td>\n",
       "</tr>\n",
       "<tr>\n",
       "  <th>odometer</th>            <td>   -0.0714</td> <td>    0.000</td> <td> -266.024</td> <td> 0.000</td> <td>   -0.072</td> <td>   -0.071</td>\n",
       "</tr>\n",
       "<tr>\n",
       "  <th>age</th>                 <td> -372.0251</td> <td>    2.341</td> <td> -158.918</td> <td> 0.000</td> <td> -376.613</td> <td> -367.437</td>\n",
       "</tr>\n",
       "<tr>\n",
       "  <th>cylinders</th>           <td> 1306.6409</td> <td>   11.743</td> <td>  111.273</td> <td> 0.000</td> <td> 1283.626</td> <td> 1329.656</td>\n",
       "</tr>\n",
       "<tr>\n",
       "  <th>text_len</th>            <td>    0.4171</td> <td>    0.006</td> <td>   75.667</td> <td> 0.000</td> <td>    0.406</td> <td>    0.428</td>\n",
       "</tr>\n",
       "<tr>\n",
       "  <th>condition_excellent</th> <td> 1119.4122</td> <td>   70.468</td> <td>   15.885</td> <td> 0.000</td> <td>  981.297</td> <td> 1257.528</td>\n",
       "</tr>\n",
       "<tr>\n",
       "  <th>condition_fair</th>      <td>   57.0182</td> <td>  109.480</td> <td>    0.521</td> <td> 0.603</td> <td> -157.560</td> <td>  271.596</td>\n",
       "</tr>\n",
       "<tr>\n",
       "  <th>condition_good</th>      <td>  646.8381</td> <td>   71.788</td> <td>    9.010</td> <td> 0.000</td> <td>  506.135</td> <td>  787.541</td>\n",
       "</tr>\n",
       "<tr>\n",
       "  <th>condition_like new</th>  <td> 2448.4190</td> <td>   82.404</td> <td>   29.712</td> <td> 0.000</td> <td> 2286.910</td> <td> 2609.928</td>\n",
       "</tr>\n",
       "<tr>\n",
       "  <th>condition_n/a</th>       <td> 2245.0584</td> <td>   70.996</td> <td>   31.622</td> <td> 0.000</td> <td> 2105.908</td> <td> 2384.209</td>\n",
       "</tr>\n",
       "<tr>\n",
       "  <th>condition_new</th>       <td> 4196.6026</td> <td>  289.199</td> <td>   14.511</td> <td> 0.000</td> <td> 3629.780</td> <td> 4763.426</td>\n",
       "</tr>\n",
       "<tr>\n",
       "  <th>condition_salvage</th>   <td>-1889.1394</td> <td>  318.021</td> <td>   -5.940</td> <td> 0.000</td> <td>-2512.453</td> <td>-1265.826</td>\n",
       "</tr>\n",
       "<tr>\n",
       "  <th>fuel_diesel</th>         <td> 9877.2706</td> <td>   88.721</td> <td>  111.329</td> <td> 0.000</td> <td> 9703.380</td> <td> 1.01e+04</td>\n",
       "</tr>\n",
       "<tr>\n",
       "  <th>fuel_electric</th>       <td>-2186.3143</td> <td>  319.263</td> <td>   -6.848</td> <td> 0.000</td> <td>-2812.061</td> <td>-1560.568</td>\n",
       "</tr>\n",
       "<tr>\n",
       "  <th>fuel_gas</th>            <td> -668.5910</td> <td>   78.127</td> <td>   -8.558</td> <td> 0.000</td> <td> -821.718</td> <td> -515.464</td>\n",
       "</tr>\n",
       "<tr>\n",
       "  <th>fuel_hybrid</th>         <td>  694.3354</td> <td>  136.708</td> <td>    5.079</td> <td> 0.000</td> <td>  426.392</td> <td>  962.279</td>\n",
       "</tr>\n",
       "<tr>\n",
       "  <th>fuel_other</th>          <td> 1107.5084</td> <td>  100.698</td> <td>   10.998</td> <td> 0.000</td> <td>  910.143</td> <td> 1304.874</td>\n",
       "</tr>\n",
       "<tr>\n",
       "  <th>VIN_has_vin</th>         <td> 5023.5403</td> <td>   39.302</td> <td>  127.818</td> <td> 0.000</td> <td> 4946.509</td> <td> 5100.572</td>\n",
       "</tr>\n",
       "<tr>\n",
       "  <th>VIN_no_vin</th>          <td> 3800.6687</td> <td>   39.722</td> <td>   95.682</td> <td> 0.000</td> <td> 3722.815</td> <td> 3878.522</td>\n",
       "</tr>\n",
       "<tr>\n",
       "  <th>type_SUV</th>            <td>  786.1862</td> <td>   49.941</td> <td>   15.742</td> <td> 0.000</td> <td>  688.303</td> <td>  884.069</td>\n",
       "</tr>\n",
       "<tr>\n",
       "  <th>type_bus</th>            <td> -562.4611</td> <td>  378.642</td> <td>   -1.485</td> <td> 0.137</td> <td>-1304.589</td> <td>  179.667</td>\n",
       "</tr>\n",
       "<tr>\n",
       "  <th>type_convertible</th>    <td>  905.1501</td> <td>  105.444</td> <td>    8.584</td> <td> 0.000</td> <td>  698.483</td> <td> 1111.817</td>\n",
       "</tr>\n",
       "<tr>\n",
       "  <th>type_coupe</th>          <td>  530.2847</td> <td>   74.297</td> <td>    7.137</td> <td> 0.000</td> <td>  384.664</td> <td>  675.905</td>\n",
       "</tr>\n",
       "<tr>\n",
       "  <th>type_hatchback</th>      <td>-3248.4899</td> <td>   85.535</td> <td>  -37.978</td> <td> 0.000</td> <td>-3416.137</td> <td>-3080.843</td>\n",
       "</tr>\n",
       "<tr>\n",
       "  <th>type_mini-van</th>       <td>-1425.2864</td> <td>  102.588</td> <td>  -13.893</td> <td> 0.000</td> <td>-1626.357</td> <td>-1224.216</td>\n",
       "</tr>\n",
       "<tr>\n",
       "  <th>type_n/a</th>            <td>  336.8739</td> <td>   51.006</td> <td>    6.605</td> <td> 0.000</td> <td>  236.903</td> <td>  436.845</td>\n",
       "</tr>\n",
       "<tr>\n",
       "  <th>type_offroad</th>        <td> 6832.8024</td> <td>  340.243</td> <td>   20.082</td> <td> 0.000</td> <td> 6165.935</td> <td> 7499.670</td>\n",
       "</tr>\n",
       "<tr>\n",
       "  <th>type_other</th>          <td>  397.1582</td> <td>   88.837</td> <td>    4.471</td> <td> 0.000</td> <td>  223.040</td> <td>  571.277</td>\n",
       "</tr>\n",
       "<tr>\n",
       "  <th>type_pickup</th>         <td> 4879.9375</td> <td>   57.358</td> <td>   85.079</td> <td> 0.000</td> <td> 4767.518</td> <td> 4992.357</td>\n",
       "</tr>\n",
       "<tr>\n",
       "  <th>type_sedan</th>          <td>-2955.1734</td> <td>   50.209</td> <td>  -58.858</td> <td> 0.000</td> <td>-3053.581</td> <td>-2856.766</td>\n",
       "</tr>\n",
       "<tr>\n",
       "  <th>type_truck</th>          <td> 4123.9395</td> <td>   59.347</td> <td>   69.489</td> <td> 0.000</td> <td> 4007.621</td> <td> 4240.258</td>\n",
       "</tr>\n",
       "<tr>\n",
       "  <th>type_van</th>            <td> -476.3991</td> <td>   93.362</td> <td>   -5.103</td> <td> 0.000</td> <td> -659.386</td> <td> -293.412</td>\n",
       "</tr>\n",
       "<tr>\n",
       "  <th>type_wagon</th>          <td>-1300.3136</td> <td>   88.257</td> <td>  -14.733</td> <td> 0.000</td> <td>-1473.295</td> <td>-1127.332</td>\n",
       "</tr>\n",
       "</table>\n",
       "<table class=\"simpletable\">\n",
       "<tr>\n",
       "  <th>Omnibus:</th>       <td>50296.803</td> <th>  Durbin-Watson:     </th>  <td>   1.999</td> \n",
       "</tr>\n",
       "<tr>\n",
       "  <th>Prob(Omnibus):</th>  <td> 0.000</td>   <th>  Jarque-Bera (JB):  </th> <td>291520.457</td>\n",
       "</tr>\n",
       "<tr>\n",
       "  <th>Skew:</th>           <td> 0.846</td>   <th>  Prob(JB):          </th>  <td>    0.00</td> \n",
       "</tr>\n",
       "<tr>\n",
       "  <th>Kurtosis:</th>       <td> 8.008</td>   <th>  Cond. No.          </th>  <td>1.55e+16</td> \n",
       "</tr>\n",
       "</table><br/><br/>Warnings:<br/>[1] Standard Errors assume that the covariance matrix of the errors is correctly specified.<br/>[2] The smallest eigenvalue is 1.42e-17. This might indicate that there are<br/>strong multicollinearity problems or that the design matrix is singular."
      ],
      "text/plain": [
       "<class 'statsmodels.iolib.summary.Summary'>\n",
       "\"\"\"\n",
       "                            OLS Regression Results                            \n",
       "==============================================================================\n",
       "Dep. Variable:                      y   R-squared:                       0.591\n",
       "Model:                            OLS   Adj. R-squared:                  0.591\n",
       "Method:                 Least Squares   F-statistic:                 1.292e+04\n",
       "Date:                Tue, 17 Dec 2019   Prob (F-statistic):               0.00\n",
       "Time:                        16:18:33   Log-Likelihood:            -2.5594e+06\n",
       "No. Observations:              250366   AIC:                         5.119e+06\n",
       "Df Residuals:                  250337   BIC:                         5.119e+06\n",
       "Df Model:                          28                                         \n",
       "Covariance Type:            nonrobust                                         \n",
       "=======================================================================================\n",
       "                          coef    std err          t      P>|t|      [0.025      0.975]\n",
       "---------------------------------------------------------------------------------------\n",
       "constant             8824.2090     72.768    121.264      0.000    8681.585    8966.833\n",
       "odometer               -0.0714      0.000   -266.024      0.000      -0.072      -0.071\n",
       "age                  -372.0251      2.341   -158.918      0.000    -376.613    -367.437\n",
       "cylinders            1306.6409     11.743    111.273      0.000    1283.626    1329.656\n",
       "text_len                0.4171      0.006     75.667      0.000       0.406       0.428\n",
       "condition_excellent  1119.4122     70.468     15.885      0.000     981.297    1257.528\n",
       "condition_fair         57.0182    109.480      0.521      0.603    -157.560     271.596\n",
       "condition_good        646.8381     71.788      9.010      0.000     506.135     787.541\n",
       "condition_like new   2448.4190     82.404     29.712      0.000    2286.910    2609.928\n",
       "condition_n/a        2245.0584     70.996     31.622      0.000    2105.908    2384.209\n",
       "condition_new        4196.6026    289.199     14.511      0.000    3629.780    4763.426\n",
       "condition_salvage   -1889.1394    318.021     -5.940      0.000   -2512.453   -1265.826\n",
       "fuel_diesel          9877.2706     88.721    111.329      0.000    9703.380    1.01e+04\n",
       "fuel_electric       -2186.3143    319.263     -6.848      0.000   -2812.061   -1560.568\n",
       "fuel_gas             -668.5910     78.127     -8.558      0.000    -821.718    -515.464\n",
       "fuel_hybrid           694.3354    136.708      5.079      0.000     426.392     962.279\n",
       "fuel_other           1107.5084    100.698     10.998      0.000     910.143    1304.874\n",
       "VIN_has_vin          5023.5403     39.302    127.818      0.000    4946.509    5100.572\n",
       "VIN_no_vin           3800.6687     39.722     95.682      0.000    3722.815    3878.522\n",
       "type_SUV              786.1862     49.941     15.742      0.000     688.303     884.069\n",
       "type_bus             -562.4611    378.642     -1.485      0.137   -1304.589     179.667\n",
       "type_convertible      905.1501    105.444      8.584      0.000     698.483    1111.817\n",
       "type_coupe            530.2847     74.297      7.137      0.000     384.664     675.905\n",
       "type_hatchback      -3248.4899     85.535    -37.978      0.000   -3416.137   -3080.843\n",
       "type_mini-van       -1425.2864    102.588    -13.893      0.000   -1626.357   -1224.216\n",
       "type_n/a              336.8739     51.006      6.605      0.000     236.903     436.845\n",
       "type_offroad         6832.8024    340.243     20.082      0.000    6165.935    7499.670\n",
       "type_other            397.1582     88.837      4.471      0.000     223.040     571.277\n",
       "type_pickup          4879.9375     57.358     85.079      0.000    4767.518    4992.357\n",
       "type_sedan          -2955.1734     50.209    -58.858      0.000   -3053.581   -2856.766\n",
       "type_truck           4123.9395     59.347     69.489      0.000    4007.621    4240.258\n",
       "type_van             -476.3991     93.362     -5.103      0.000    -659.386    -293.412\n",
       "type_wagon          -1300.3136     88.257    -14.733      0.000   -1473.295   -1127.332\n",
       "==============================================================================\n",
       "Omnibus:                    50296.803   Durbin-Watson:                   1.999\n",
       "Prob(Omnibus):                  0.000   Jarque-Bera (JB):           291520.457\n",
       "Skew:                           0.846   Prob(JB):                         0.00\n",
       "Kurtosis:                       8.008   Cond. No.                     1.55e+16\n",
       "==============================================================================\n",
       "\n",
       "Warnings:\n",
       "[1] Standard Errors assume that the covariance matrix of the errors is correctly specified.\n",
       "[2] The smallest eigenvalue is 1.42e-17. This might indicate that there are\n",
       "strong multicollinearity problems or that the design matrix is singular.\n",
       "\"\"\""
      ]
     },
     "execution_count": 53,
     "metadata": {},
     "output_type": "execute_result"
    }
   ],
   "source": [
    "x3 = pd.get_dummies(data_final[['constant','odometer','age','cylinders','text_len','condition','fuel','VIN','type']])\n",
    "y3 = data_final.price.values\n",
    "\n",
    "X_train3, X_test3, y_train3, y_test3 = train_test_split(x3, y3, test_size=0.3, random_state=0)\n",
    "\n",
    "reg_sm3 = sm.OLS(y_train3, X_train3).fit()\n",
    "reg_sm3.summary()"
   ]
  },
  {
   "cell_type": "code",
   "execution_count": 58,
   "metadata": {},
   "outputs": [],
   "source": [
    "y_hat3 = reg_sm3.predict(X_test3)\n"
   ]
  },
  {
   "cell_type": "code",
   "execution_count": 60,
   "metadata": {},
   "outputs": [
    {
     "data": {
      "text/plain": [
       "<matplotlib.collections.PathCollection at 0x1a212eea90>"
      ]
     },
     "execution_count": 60,
     "metadata": {},
     "output_type": "execute_result"
    },
    {
     "data": {
      "image/png": "[encoded data removed]",
      "text/plain": [
       "<Figure size 432x288 with 1 Axes>"
      ]
     },
     "metadata": {
      "needs_background": "light"
     },
     "output_type": "display_data"
    }
   ],
   "source": [
    "rsme3 = math.sqrt(mean_squared_error(y_hat3,y_test3))\n",
    "plt.scatter(y_hat3,y_test3)"
   ]
  },
  {
   "cell_type": "code",
   "execution_count": 61,
   "metadata": {},
   "outputs": [],
   "source": [
    "### Cross Validation 5 Fold ###"
   ]
  },
  {
   "cell_type": "code",
   "execution_count": 67,
   "metadata": {},
   "outputs": [],
   "source": [
    "x4 = pd.get_dummies(data_final[['constant','odometer','age','cylinders','text_len','condition','fuel','VIN','type']])\n",
    "y4 = data_final.price.values\n",
    "\n",
    "x_train4, x_test4, y_train4, y_test4 = train_test_split(x4, y4, test_size=0.3, random_state=0)\n",
    "\n",
    "reg4 = LinearRegression().fit(x_train4, y_train4)\n",
    "reg4.score(x_train4, y_train4)\n"
   ]
  },
  {
   "cell_type": "code",
   "execution_count": 69,
   "metadata": {},
   "outputs": [
    {
     "data": {
      "text/plain": [
       "array([6627.6098955 , 6620.09935142, 6709.51242701, 6839.1479071 ,\n",
       "       6530.81090292])"
      ]
     },
     "execution_count": 69,
     "metadata": {},
     "output_type": "execute_result"
    }
   ],
   "source": [
    "scores = cross_val_score(reg4,x4,y4, cv=5, scoring='neg_mean_squared_error')\n",
    "np.sqrt(np.abs(scores))"
   ]
  },
  {
   "cell_type": "code",
   "execution_count": null,
   "metadata": {},
   "outputs": [],
   "source": []
  }
 ],
 "metadata": {
  "kernelspec": {
   "display_name": "Python 3",
   "language": "python",
   "name": "python3"
  },
  "language_info": {
   "codemirror_mode": {
    "name": "ipython",
    "version": 3
   },
   "file_extension": ".py",
   "mimetype": "text/x-python",
   "name": "python",
   "nbconvert_exporter": "python",
   "pygments_lexer": "ipython3",
   "version": "3.7.4"
  }
 },
 "nbformat": 4,
 "nbformat_minor": 4
}
